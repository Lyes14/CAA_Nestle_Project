{
  "nbformat": 4,
  "nbformat_minor": 0,
  "metadata": {
    "colab": {
      "provenance": []
    },
    "kernelspec": {
      "name": "python3",
      "display_name": "Python 3"
    },
    "language_info": {
      "name": "python"
    }
  },
  "cells": [
    {
      "cell_type": "markdown",
      "source": [
        "# Deploying an app on Google Cloud\n",
        "Credit : This tutorial comes from the Cloud & Advanced Analytics course taught by Pr. Vlachos at HEC Lausanne\n",
        "\n",
        "## Step 1: Create a new GitHub repository\n",
        "\n",
        "Create a new GitHub repository, keep the code private, and click on create. Then, upload the application folder and push your code.\n",
        "\n",
        "## Step 2: Generate a Personal Access Token on GitHub\n",
        "\n",
        "On your GitHub account, go to **Settings** -> **Developer Settings** -> **Personal Access Token** -> **Tokens (classic)**. Generate a new token and select the following permissions:\n",
        "- write:packages\n",
        "- delete:packages\n",
        "- user\n",
        "- delete_repo\n",
        "\n",
        "Copy your token and keep it somewhere safe.\n",
        "\n",
        "## Step 3: Activate Cloud Shell on Google Cloud\n",
        "\n",
        "Go to Google Cloud and activate **Cloud Shell**.\n",
        "\n",
        "## Step 4: Clone the GitHub repository\n",
        "Here, you will have to give your access token\n",
        "In your Cloud Shell, clone the GitHub repository to access the code:\n",
        "\n",
        "```python\n",
        "!git clone https://github.com/YOUR_USERNAME/YOUR_REPO\n"
      ],
      "metadata": {
        "id": "Q5qeE9Kso-KI"
      }
    },
    {
      "cell_type": "markdown",
      "source": [
        "##Step 5: Navigate to the cloned directory\n",
        "\n",
        "Navigate to the cloned directory:\n"
      ],
      "metadata": {
        "id": "JnWoTbkLpnF4"
      }
    },
    {
      "cell_type": "code",
      "source": [
        "%cd your_repo/\n",
        "%cd backend_flask_app/"
      ],
      "metadata": {
        "id": "wmXKcUGKqBBX"
      },
      "execution_count": null,
      "outputs": []
    },
    {
      "cell_type": "markdown",
      "source": [
        "##Step 6: Build your Docker image\n",
        "\n",
        "Build your Docker image. To do this, copy your PROJECT_ID from Google Cloud:"
      ],
      "metadata": {
        "id": "v-TNlzJCqDcI"
      }
    },
    {
      "cell_type": "code",
      "source": [
        "!docker build -t eu.gcr.io/PROJECT_ID/backend_app:latest ."
      ],
      "metadata": {
        "id": "7x6teSaSqRJG"
      },
      "execution_count": null,
      "outputs": []
    },
    {
      "cell_type": "markdown",
      "source": [
        "##Step 7: Configure Docker to use Google Cloud authentication\n",
        "\n",
        "Configure Docker to use Google Cloud authentication:"
      ],
      "metadata": {
        "id": "XbsGJAjyqh9a"
      }
    },
    {
      "cell_type": "code",
      "source": [
        "!gcloud auth configure-docker"
      ],
      "metadata": {
        "id": "oalmz4gAqiTM"
      },
      "execution_count": null,
      "outputs": []
    },
    {
      "cell_type": "markdown",
      "source": [
        "##Step 8: Push your Docker image to Google Container Registry\n",
        "\n",
        "Push your Docker image to Google Container Registry:"
      ],
      "metadata": {
        "id": "O8tVK1SaqWkK"
      }
    },
    {
      "cell_type": "code",
      "source": [
        "!docker push eu.gcr.io/PROJECT_ID/backend_app:latest"
      ],
      "metadata": {
        "id": "TG14YZRhqedQ"
      },
      "execution_count": null,
      "outputs": []
    },
    {
      "cell_type": "markdown",
      "source": [
        "##Step 9: Deploy to Cloud Run\n",
        "\n",
        "Go to Container Registry (search for \"container registry\" in the Google Cloud search bar). Select your repository backend_app, then select DEPLOY -> Deploy to Cloud Run.\n",
        "\n",
        "Select your container image URL if it is not already selected. Choose your region, add Allow unauthenticated invocations, and click CREATE.\n",
        "\n",
        "Wait 1-2 minutes and done! You should have access to a URL allowing you to access your website from the cloud. Click on the URL to show your app deployed on the web."
      ],
      "metadata": {
        "id": "kCYTbDK3qpie"
      }
    }
  ]
}